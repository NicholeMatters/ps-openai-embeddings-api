{
 "cells": [
  {
   "cell_type": "code",
   "execution_count": null,
   "metadata": {},
   "outputs": [],
   "source": [
    "%pip install pandas"
   ]
  },
  {
   "cell_type": "code",
   "execution_count": null,
   "metadata": {},
   "outputs": [],
   "source": [
    "import pandas as pd\n",
    "\n",
    "pd.set_option('display.max_colwidth', None)\n",
    "top_n = 200\n",
    "# Replace 'filename.csv' with your file path\n",
    "df = pd.read_csv('~/Downloads/ps/reviews.csv')\n",
    "df = df.dropna()\n",
    "\n",
    "df = df.head(top_n)\n",
    "\n",
    "print(len(df))\n",
    "df"
   ]
  },
  {
   "cell_type": "code",
   "execution_count": null,
   "metadata": {},
   "outputs": [],
   "source": [
    "%pip install openai tenacity python-dotenv\n",
    "\n",
    "from dotenv import load_dotenv\n",
    "from tenacity import retry, stop_after_attempt, wait_random_exponential\n",
    "from typing import List\n",
    "import openai\n",
    "import os\n",
    "\n",
    "load_dotenv()\n",
    "\n",
    "@retry(wait=wait_random_exponential(min=1, max=20), stop=stop_after_attempt(6))\n",
    "def get_embedding(text: str, model, **kwargs) -> List[float]:\n",
    "\n",
    "    # replace newlines, which can negatively affect performance.\n",
    "    text = text.replace(\"\\n\", \" \")\n",
    "    text = text.replace(\"<br/>\", \" \")\n",
    "\n",
    "    response = openai.embeddings.create(input=[text], model=model, **kwargs)\n",
    "\n",
    "    return response.data[0].embedding"
   ]
  },
  {
   "cell_type": "code",
   "execution_count": null,
   "metadata": {},
   "outputs": [],
   "source": [
    "text=\"great location!\"\n",
    "model=\"text-embedding-ada-002\"\n",
    "embedding=get_embedding(text, model)\n",
    "\n",
    "print(\"embeddings length: \", len(embedding))\n",
    "print(embedding)"
   ]
  },
  {
   "cell_type": "code",
   "execution_count": null,
   "metadata": {},
   "outputs": [],
   "source": [
    "model=\"text-embedding-ada-002\"\n",
    "df[\"embedding\"] = df.comments.apply(lambda x: get_embedding(x, model=model))\n",
    "df.to_csv(\"data/output/reviews-embeddings.csv\")"
   ]
  },
  {
   "cell_type": "code",
   "execution_count": null,
   "metadata": {},
   "outputs": [],
   "source": [
    "import numpy as np\n",
    "\n",
    "def cosine_similarity(a, b):\n",
    "    return np.dot(a, b) / (np.linalg.norm(a) * np.linalg.norm(b))\n",
    "\n",
    "def search_reviews(df, review_description, n=3, pprint=True):\n",
    "   embedding = get_embedding(review_description, model='text-embedding-ada-002')\n",
    "   df['similarities'] = df.embedding.apply(lambda x: cosine_similarity(x, embedding))\n",
    "   res = df.sort_values('similarities', ascending=False).head(n)\n",
    "   return res"
   ]
  },
  {
   "cell_type": "code",
   "execution_count": null,
   "metadata": {},
   "outputs": [],
   "source": [
    "results = search_reviews(df, \"coffee\")\n",
    "\n",
    "results.head()\n"
   ]
  },
  {
   "cell_type": "code",
   "execution_count": null,
   "metadata": {},
   "outputs": [],
   "source": [
    "import pandas as pd\n",
    "import numpy as np\n",
    "from ast import literal_eval\n",
    "\n",
    "df_from_file = pd.read_csv('data/output/reviews-embeddings.csv')\n",
    "df_from_file = df_from_file.dropna()\n",
    "df_from_file[\"embedding\"] = df_from_file.embedding.apply(literal_eval).apply(np.array)\n",
    "\n",
    "results = search_reviews(df_from_file, \"walkable\")\n",
    "results.head()"
   ]
  }
 ],
 "metadata": {
  "kernelspec": {
   "display_name": "Python 3",
   "language": "python",
   "name": "python3"
  },
  "language_info": {
   "codemirror_mode": {
    "name": "ipython",
    "version": 3
   },
   "file_extension": ".py",
   "mimetype": "text/x-python",
   "name": "python",
   "nbconvert_exporter": "python",
   "pygments_lexer": "ipython3",
   "version": "3.11.5"
  }
 },
 "nbformat": 4,
 "nbformat_minor": 2
}
