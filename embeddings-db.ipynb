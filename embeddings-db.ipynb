{
 "cells": [
  {
   "cell_type": "code",
   "execution_count": null,
   "metadata": {},
   "outputs": [],
   "source": [
    "%pip install pandas\n",
    "%pip install chromadb"
   ]
  },
  {
   "cell_type": "code",
   "execution_count": null,
   "metadata": {},
   "outputs": [],
   "source": [
    "import pandas as pd\n",
    "\n",
    "pd.set_option('display.max_colwidth', None)\n",
    "top_n = 200\n",
    "# Replace 'filename.csv' with your file path\n",
    "df = pd.read_csv('~/Downloads/ps/reviews.csv')\n",
    "df = df.dropna()\n",
    "\n",
    "df = df.head(top_n)\n",
    "\n",
    "print(len(df))\n",
    "df"
   ]
  },
  {
   "cell_type": "code",
   "execution_count": null,
   "metadata": {},
   "outputs": [],
   "source": [
    "import os\n",
    "import chromadb\n",
    "import chromadb.utils.embedding_functions as embedding_functions\n",
    "\n",
    "API_KEY = os.environ.get(\"OPENAI_API_KEY\")\n",
    "openai_ef = embedding_functions.OpenAIEmbeddingFunction(\n",
    "                api_key=API_KEY,\n",
    "                model_name=\"text-embedding-ada-002\"\n",
    "            )\n",
    "client = chromadb.Client()\n",
    "collection = client.create_collection(name=\"reviews\", embedding_function=openai_ef)"
   ]
  },
  {
   "cell_type": "code",
   "execution_count": null,
   "metadata": {},
   "outputs": [],
   "source": [
    "\n",
    "\n",
    "\n",
    "comments = df['comments'].tolist()\n",
    "ids = df['id'].map(lambda x: str(x)).tolist()\n",
    "collection.add(\n",
    "    documents=comments,\n",
    "    ids=ids\n",
    ")"
   ]
  },
  {
   "cell_type": "code",
   "execution_count": 7,
   "metadata": {},
   "outputs": [
    {
     "data": {
      "text/plain": [
       "{'ids': [['2797.0', '232163.0', '73222.0']],\n",
       " 'distances': [[0.4048338234424591, 0.43340447545051575, 0.4399985373020172]],\n",
       " 'metadatas': [[None, None, None]],\n",
       " 'embeddings': None,\n",
       " 'documents': [['Very professional operation. Room is very clean and comfortable. Location is close to tram or bus which take you to most of attractions. A great and helpful host who want to ensure you enjoy your stay.  ',\n",
       "   \"Great Trip, accomodation was very clean and Daniel was very welcoming and professional. He provides hotel-like accomodation with a real feeling of Amsterdam. Would highly recommend a stay at Daniel's. \",\n",
       "   \"Daniel is a great host. He is a very sweet and courteous person and he seems to truly enjoy hosting guests. His apartment is very tidy and clean and it's not often that you come across such a clean and well organized place (you would have to go 4 stars or higher!). He provides everything the guests could think of (or at least that I can think of): bikes, towels, shampoo, conditioner, shower cap, different maps, guides etc. and he will always be of service when information or recommendations are needed. Daniel is very easy to deal with and it was a pleasure to stay with him.\\r<br/>Thank you Daniel.\"]],\n",
       " 'uris': None,\n",
       " 'data': None}"
      ]
     },
     "execution_count": 7,
     "metadata": {},
     "output_type": "execute_result"
    }
   ],
   "source": [
    "collection.query(\n",
    "    query_texts=[\"clean\"],\n",
    "    n_results=3\n",
    ")"
   ]
  }
 ],
 "metadata": {
  "kernelspec": {
   "display_name": "Python 3",
   "language": "python",
   "name": "python3"
  },
  "language_info": {
   "codemirror_mode": {
    "name": "ipython",
    "version": 3
   },
   "file_extension": ".py",
   "mimetype": "text/x-python",
   "name": "python",
   "nbconvert_exporter": "python",
   "pygments_lexer": "ipython3",
   "version": "3.11.5"
  }
 },
 "nbformat": 4,
 "nbformat_minor": 2
}
